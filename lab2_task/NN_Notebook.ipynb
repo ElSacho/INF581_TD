{
 "cells": [
  {
   "cell_type": "code",
   "execution_count": 1,
   "metadata": {},
   "outputs": [],
   "source": [
    "import torch\n",
    "import torch.nn as nn\n",
    "import torch.nn.functional as F\n",
    "import numpy as np\n",
    "import pandas as pd\n",
    "import torch.optim as optim\n",
    "from torch.autograd import Variable\n",
    "from torchviz import make_dot"
   ]
  },
  {
   "cell_type": "code",
   "execution_count": 2,
   "metadata": {},
   "outputs": [],
   "source": [
    "# Load the Dataset\n",
    "\n",
    "import pandas as pd\n",
    "from sklearn.model_selection import train_test_split\n",
    "L = 6 \n",
    "df = pd.read_csv(\"music.csv\")\n",
    "#labels = np.array(df.columns.values.tolist())[0:L]\n",
    "XY = df.values\n",
    "N,n_columns = XY.shape\n",
    "D = n_columns - L\n",
    "X = XY[:,L:n_columns]\n",
    "Y = XY[:,0:L]\n",
    "Y = XY[:,0:L].astype(int).tolist()\n",
    "X = XY[:,L:].astype(float).tolist()\n",
    "N_test = 30\n",
    "N_train = N-N_test\n",
    "X_train, X_test, Y_train, Y_test = train_test_split(X, Y, test_size=N_test, random_state=42)\n"
   ]
  },
  {
   "cell_type": "code",
   "execution_count": 11,
   "metadata": {},
   "outputs": [
    {
     "name": "stdout",
     "output_type": "stream",
     "text": [
      "6\n"
     ]
    }
   ],
   "source": [
    "print(len(Y_train[0]))"
   ]
  },
  {
   "cell_type": "code",
   "execution_count": 12,
   "metadata": {},
   "outputs": [],
   "source": [
    "# Design the model\n",
    "\n",
    "class multilabel_classifier(nn.Module):\n",
    "\n",
    "    def __init__(self, D, L, H=10):\n",
    "        super(multilabel_classifier, self).__init__()\n",
    "\n",
    "        L_1 = int(L/2)\n",
    "        L_2 = L - L_1\n",
    "        self.linear1_1 = nn.Linear(D, L_1)\n",
    "        \n",
    "        self.linear2_1 = nn.Linear(D, H)\n",
    "        self.linear2_2 = nn.Linear(H, L_2)\n",
    "        \n",
    "        \n",
    "\n",
    "    def forward(self, x):\n",
    "\n",
    "        y_1 = self.linear1_1(x)\n",
    "        y_2 = self.linear2_1(x)\n",
    "        y_2 = self.linear2_2(y_2)\n",
    "        y = torch.cat((y_1, y_2), dim=1) \n",
    "        y = torch.sigmoid(y)\n",
    "        # y = torch.round(y)\n",
    "        \n",
    "        return y\n",
    "            "
   ]
  },
  {
   "cell_type": "code",
   "execution_count": 13,
   "metadata": {},
   "outputs": [
    {
     "name": "stdout",
     "output_type": "stream",
     "text": [
      "[1/100] Loss: 0.806\n",
      "[2/100] Loss: 0.610\n",
      "[3/100] Loss: 0.558\n",
      "[4/100] Loss: 0.531\n",
      "[5/100] Loss: 0.516\n",
      "[6/100] Loss: 0.506\n",
      "[7/100] Loss: 0.498\n",
      "[8/100] Loss: 0.492\n",
      "[9/100] Loss: 0.488\n",
      "[10/100] Loss: 0.483\n",
      "[11/100] Loss: 0.480\n",
      "[12/100] Loss: 0.476\n",
      "[13/100] Loss: 0.473\n",
      "[14/100] Loss: 0.471\n",
      "[15/100] Loss: 0.468\n",
      "[16/100] Loss: 0.466\n",
      "[17/100] Loss: 0.464\n",
      "[18/100] Loss: 0.462\n",
      "[19/100] Loss: 0.461\n",
      "[20/100] Loss: 0.459\n",
      "[21/100] Loss: 0.457\n",
      "[22/100] Loss: 0.456\n",
      "[23/100] Loss: 0.454\n",
      "[24/100] Loss: 0.453\n",
      "[25/100] Loss: 0.452\n",
      "[26/100] Loss: 0.451\n",
      "[27/100] Loss: 0.449\n",
      "[28/100] Loss: 0.448\n",
      "[29/100] Loss: 0.447\n",
      "[30/100] Loss: 0.446\n",
      "[31/100] Loss: 0.445\n",
      "[32/100] Loss: 0.444\n",
      "[33/100] Loss: 0.443\n",
      "[34/100] Loss: 0.443\n",
      "[35/100] Loss: 0.442\n",
      "[36/100] Loss: 0.441\n",
      "[37/100] Loss: 0.440\n",
      "[38/100] Loss: 0.439\n",
      "[39/100] Loss: 0.438\n",
      "[40/100] Loss: 0.438\n",
      "[41/100] Loss: 0.437\n",
      "[42/100] Loss: 0.436\n",
      "[43/100] Loss: 0.436\n",
      "[44/100] Loss: 0.435\n",
      "[45/100] Loss: 0.434\n",
      "[46/100] Loss: 0.434\n",
      "[47/100] Loss: 0.433\n",
      "[48/100] Loss: 0.433\n",
      "[49/100] Loss: 0.432\n",
      "[50/100] Loss: 0.431\n",
      "[51/100] Loss: 0.431\n",
      "[52/100] Loss: 0.430\n",
      "[53/100] Loss: 0.430\n",
      "[54/100] Loss: 0.429\n",
      "[55/100] Loss: 0.429\n",
      "[56/100] Loss: 0.428\n",
      "[57/100] Loss: 0.428\n",
      "[58/100] Loss: 0.427\n",
      "[59/100] Loss: 0.427\n",
      "[60/100] Loss: 0.426\n",
      "[61/100] Loss: 0.426\n",
      "[62/100] Loss: 0.425\n",
      "[63/100] Loss: 0.425\n",
      "[64/100] Loss: 0.425\n",
      "[65/100] Loss: 0.424\n",
      "[66/100] Loss: 0.424\n",
      "[67/100] Loss: 0.423\n",
      "[68/100] Loss: 0.423\n",
      "[69/100] Loss: 0.423\n",
      "[70/100] Loss: 0.422\n",
      "[71/100] Loss: 0.422\n",
      "[72/100] Loss: 0.422\n",
      "[73/100] Loss: 0.421\n",
      "[74/100] Loss: 0.421\n",
      "[75/100] Loss: 0.420\n",
      "[76/100] Loss: 0.420\n",
      "[77/100] Loss: 0.420\n",
      "[78/100] Loss: 0.419\n",
      "[79/100] Loss: 0.419\n",
      "[80/100] Loss: 0.419\n",
      "[81/100] Loss: 0.419\n",
      "[82/100] Loss: 0.418\n",
      "[83/100] Loss: 0.418\n",
      "[84/100] Loss: 0.418\n",
      "[85/100] Loss: 0.417\n",
      "[86/100] Loss: 0.417\n",
      "[87/100] Loss: 0.417\n",
      "[88/100] Loss: 0.416\n",
      "[89/100] Loss: 0.416\n",
      "[90/100] Loss: 0.416\n",
      "[91/100] Loss: 0.416\n",
      "[92/100] Loss: 0.415\n",
      "[93/100] Loss: 0.415\n",
      "[94/100] Loss: 0.415\n",
      "[95/100] Loss: 0.415\n",
      "[96/100] Loss: 0.414\n",
      "[97/100] Loss: 0.414\n",
      "[98/100] Loss: 0.414\n",
      "[99/100] Loss: 0.414\n",
      "[100/100] Loss: 0.413\n"
     ]
    }
   ],
   "source": [
    "h = multilabel_classifier(D,L)\n",
    "\n",
    "torch.manual_seed(0)\n",
    "np.random.seed(0)\n",
    "\n",
    "# Set up the loss\n",
    "optimizer = optim.Adam(h.parameters(),0.001)\n",
    "\n",
    "my_loss = torch.nn.BCELoss()\n",
    "\n",
    "outputs = []\n",
    "\n",
    "# Fit the Model\n",
    "n_epochs = 100\n",
    "for t in range(n_epochs):\n",
    "    losses = []\n",
    "    for i in range(N_train):\n",
    "        h.train()\n",
    "        x_variable = torch.FloatTensor(X_train[i]).view(1, -1)\n",
    "        y_variable = torch.FloatTensor(Y_train[i]).view(1, -1)\n",
    "        \n",
    "        output = h(x_variable)\n",
    "        p_y = torch.Tensor.numpy(output.detach())\n",
    "        \n",
    "        loss = my_loss(output, y_variable)\n",
    "        \n",
    "        optimizer.zero_grad()\n",
    "        loss.backward()\n",
    "        optimizer.step()\n",
    "        losses.append(loss.data.mean())\n",
    "    print('[%d/%d] Loss: %.3f' % (t+1, n_epochs, np.mean(losses)))\n",
    "\n",
    "\n"
   ]
  },
  {
   "cell_type": "code",
   "execution_count": 74,
   "metadata": {},
   "outputs": [
    {
     "data": {
      "image/svg+xml": "<?xml version=\"1.0\" encoding=\"UTF-8\" standalone=\"no\"?>\n<!DOCTYPE svg PUBLIC \"-//W3C//DTD SVG 1.1//EN\"\n \"http://www.w3.org/Graphics/SVG/1.1/DTD/svg11.dtd\">\n<!-- Generated by graphviz version 7.0.6 (20230106.0513)\n -->\n<!-- Pages: 1 -->\n<svg width=\"704pt\" height=\"512pt\"\n viewBox=\"0.00 0.00 704.00 512.00\" xmlns=\"http://www.w3.org/2000/svg\" xmlns:xlink=\"http://www.w3.org/1999/xlink\">\n<g id=\"graph0\" class=\"graph\" transform=\"scale(1 1) rotate(0) translate(4 508)\">\n<polygon fill=\"white\" stroke=\"none\" points=\"-4,4 -4,-508 700,-508 700,4 -4,4\"/>\n<!-- 140380779813840 -->\n<g id=\"node1\" class=\"node\">\n<title>140380779813840</title>\n<polygon fill=\"#caff70\" stroke=\"black\" points=\"255.5,-31 201.5,-31 201.5,0 255.5,0 255.5,-31\"/>\n<text text-anchor=\"middle\" x=\"228.5\" y=\"-7\" font-family=\"monospace\" font-size=\"10.00\"> ()</text>\n</g>\n<!-- 140380274060976 -->\n<g id=\"node2\" class=\"node\">\n<title>140380274060976</title>\n<polygon fill=\"lightgrey\" stroke=\"black\" points=\"276,-86 181,-86 181,-67 276,-67 276,-86\"/>\n<text text-anchor=\"middle\" x=\"228.5\" y=\"-74\" font-family=\"monospace\" font-size=\"10.00\">MeanBackward0</text>\n</g>\n<!-- 140380274060976&#45;&gt;140380779813840 -->\n<g id=\"edge21\" class=\"edge\">\n<title>140380274060976&#45;&gt;140380779813840</title>\n<path fill=\"none\" stroke=\"black\" d=\"M228.5,-66.54C228.5,-60.07 228.5,-50.98 228.5,-42.32\"/>\n<polygon fill=\"black\" stroke=\"black\" points=\"232,-42.58 228.5,-32.58 225,-42.58 232,-42.58\"/>\n</g>\n<!-- 140380767737648 -->\n<g id=\"node3\" class=\"node\">\n<title>140380767737648</title>\n<polygon fill=\"lightgrey\" stroke=\"black\" points=\"285,-141 172,-141 172,-122 285,-122 285,-141\"/>\n<text text-anchor=\"middle\" x=\"228.5\" y=\"-129\" font-family=\"monospace\" font-size=\"10.00\">SigmoidBackward0</text>\n</g>\n<!-- 140380767737648&#45;&gt;140380274060976 -->\n<g id=\"edge1\" class=\"edge\">\n<title>140380767737648&#45;&gt;140380274060976</title>\n<path fill=\"none\" stroke=\"black\" d=\"M228.5,-121.75C228.5,-115.27 228.5,-106.16 228.5,-97.9\"/>\n<polygon fill=\"black\" stroke=\"black\" points=\"232,-97.96 228.5,-87.96 225,-97.96 232,-97.96\"/>\n</g>\n<!-- 140380767738464 -->\n<g id=\"node4\" class=\"node\">\n<title>140380767738464</title>\n<polygon fill=\"lightgrey\" stroke=\"black\" points=\"273,-196 184,-196 184,-177 273,-177 273,-196\"/>\n<text text-anchor=\"middle\" x=\"228.5\" y=\"-184\" font-family=\"monospace\" font-size=\"10.00\">CatBackward0</text>\n</g>\n<!-- 140380767738464&#45;&gt;140380767737648 -->\n<g id=\"edge2\" class=\"edge\">\n<title>140380767738464&#45;&gt;140380767737648</title>\n<path fill=\"none\" stroke=\"black\" d=\"M228.5,-176.75C228.5,-170.27 228.5,-161.16 228.5,-152.9\"/>\n<polygon fill=\"black\" stroke=\"black\" points=\"232,-152.96 228.5,-142.96 225,-152.96 232,-152.96\"/>\n</g>\n<!-- 140380274153648 -->\n<g id=\"node5\" class=\"node\">\n<title>140380274153648</title>\n<polygon fill=\"lightgrey\" stroke=\"black\" points=\"220,-251 119,-251 119,-232 220,-232 220,-251\"/>\n<text text-anchor=\"middle\" x=\"169.5\" y=\"-239\" font-family=\"monospace\" font-size=\"10.00\">AddmmBackward0</text>\n</g>\n<!-- 140380274153648&#45;&gt;140380767738464 -->\n<g id=\"edge3\" class=\"edge\">\n<title>140380274153648&#45;&gt;140380767738464</title>\n<path fill=\"none\" stroke=\"black\" d=\"M179.51,-231.51C187.87,-224 200,-213.1 210.1,-204.03\"/>\n<polygon fill=\"black\" stroke=\"black\" points=\"212.41,-206.66 217.51,-197.37 207.74,-201.45 212.41,-206.66\"/>\n</g>\n<!-- 140380274151920 -->\n<g id=\"node6\" class=\"node\">\n<title>140380274151920</title>\n<polygon fill=\"lightgrey\" stroke=\"black\" points=\"107,-306 6,-306 6,-287 107,-287 107,-306\"/>\n<text text-anchor=\"middle\" x=\"56.5\" y=\"-294\" font-family=\"monospace\" font-size=\"10.00\">AccumulateGrad</text>\n</g>\n<!-- 140380274151920&#45;&gt;140380274153648 -->\n<g id=\"edge4\" class=\"edge\">\n<title>140380274151920&#45;&gt;140380274153648</title>\n<path fill=\"none\" stroke=\"black\" d=\"M75.67,-286.51C93.39,-278.2 119.98,-265.73 140.33,-256.18\"/>\n<polygon fill=\"black\" stroke=\"black\" points=\"141.68,-259.42 149.24,-252 138.7,-253.08 141.68,-259.42\"/>\n</g>\n<!-- 140380265438480 -->\n<g id=\"node7\" class=\"node\">\n<title>140380265438480</title>\n<polygon fill=\"lightblue\" stroke=\"black\" points=\"101,-372 0,-372 0,-342 101,-342 101,-372\"/>\n<text text-anchor=\"middle\" x=\"50.5\" y=\"-360\" font-family=\"monospace\" font-size=\"10.00\">linear1_1.bias</text>\n<text text-anchor=\"middle\" x=\"50.5\" y=\"-349\" font-family=\"monospace\" font-size=\"10.00\"> (3)</text>\n</g>\n<!-- 140380265438480&#45;&gt;140380274151920 -->\n<g id=\"edge5\" class=\"edge\">\n<title>140380265438480&#45;&gt;140380274151920</title>\n<path fill=\"none\" stroke=\"black\" d=\"M51.98,-341.54C52.73,-334.26 53.65,-325.31 54.46,-317.39\"/>\n<polygon fill=\"black\" stroke=\"black\" points=\"57.92,-317.99 55.46,-307.68 50.95,-317.27 57.92,-317.99\"/>\n</g>\n<!-- 140380274153264 -->\n<g id=\"node8\" class=\"node\">\n<title>140380274153264</title>\n<polygon fill=\"lightgrey\" stroke=\"black\" points=\"208,-306 131,-306 131,-287 208,-287 208,-306\"/>\n<text text-anchor=\"middle\" x=\"169.5\" y=\"-294\" font-family=\"monospace\" font-size=\"10.00\">TBackward0</text>\n</g>\n<!-- 140380274153264&#45;&gt;140380274153648 -->\n<g id=\"edge6\" class=\"edge\">\n<title>140380274153264&#45;&gt;140380274153648</title>\n<path fill=\"none\" stroke=\"black\" d=\"M169.5,-286.75C169.5,-280.27 169.5,-271.16 169.5,-262.9\"/>\n<polygon fill=\"black\" stroke=\"black\" points=\"173,-262.96 169.5,-252.96 166,-262.96 173,-262.96\"/>\n</g>\n<!-- 140380274151536 -->\n<g id=\"node9\" class=\"node\">\n<title>140380274151536</title>\n<polygon fill=\"lightgrey\" stroke=\"black\" points=\"220,-366.5 119,-366.5 119,-347.5 220,-347.5 220,-366.5\"/>\n<text text-anchor=\"middle\" x=\"169.5\" y=\"-354.5\" font-family=\"monospace\" font-size=\"10.00\">AccumulateGrad</text>\n</g>\n<!-- 140380274151536&#45;&gt;140380274153264 -->\n<g id=\"edge7\" class=\"edge\">\n<title>140380274151536&#45;&gt;140380274153264</title>\n<path fill=\"none\" stroke=\"black\" d=\"M169.5,-347.37C169.5,-339.5 169.5,-327.6 169.5,-317.39\"/>\n<polygon fill=\"black\" stroke=\"black\" points=\"173,-317.68 169.5,-307.68 166,-317.68 173,-317.68\"/>\n</g>\n<!-- 140380779867248 -->\n<g id=\"node10\" class=\"node\">\n<title>140380779867248</title>\n<polygon fill=\"lightblue\" stroke=\"black\" points=\"226,-438 113,-438 113,-408 226,-408 226,-438\"/>\n<text text-anchor=\"middle\" x=\"169.5\" y=\"-426\" font-family=\"monospace\" font-size=\"10.00\">linear1_1.weight</text>\n<text text-anchor=\"middle\" x=\"169.5\" y=\"-415\" font-family=\"monospace\" font-size=\"10.00\"> (3, 72)</text>\n</g>\n<!-- 140380779867248&#45;&gt;140380274151536 -->\n<g id=\"edge8\" class=\"edge\">\n<title>140380779867248&#45;&gt;140380274151536</title>\n<path fill=\"none\" stroke=\"black\" d=\"M169.5,-407.8C169.5,-399.09 169.5,-387.81 169.5,-378.18\"/>\n<polygon fill=\"black\" stroke=\"black\" points=\"173,-378.36 169.5,-368.36 166,-378.36 173,-378.36\"/>\n</g>\n<!-- 140380274153120 -->\n<g id=\"node11\" class=\"node\">\n<title>140380274153120</title>\n<polygon fill=\"lightgrey\" stroke=\"black\" points=\"398,-251 297,-251 297,-232 398,-232 398,-251\"/>\n<text text-anchor=\"middle\" x=\"347.5\" y=\"-239\" font-family=\"monospace\" font-size=\"10.00\">AddmmBackward0</text>\n</g>\n<!-- 140380274153120&#45;&gt;140380767738464 -->\n<g id=\"edge9\" class=\"edge\">\n<title>140380274153120&#45;&gt;140380767738464</title>\n<path fill=\"none\" stroke=\"black\" d=\"M327.31,-231.51C308.48,-223.12 280.13,-210.5 258.63,-200.92\"/>\n<polygon fill=\"black\" stroke=\"black\" points=\"260.33,-197.85 249.77,-196.97 257.48,-204.24 260.33,-197.85\"/>\n</g>\n<!-- 140380274152112 -->\n<g id=\"node12\" class=\"node\">\n<title>140380274152112</title>\n<polygon fill=\"lightgrey\" stroke=\"black\" points=\"339,-306 238,-306 238,-287 339,-287 339,-306\"/>\n<text text-anchor=\"middle\" x=\"288.5\" y=\"-294\" font-family=\"monospace\" font-size=\"10.00\">AccumulateGrad</text>\n</g>\n<!-- 140380274152112&#45;&gt;140380274153120 -->\n<g id=\"edge10\" class=\"edge\">\n<title>140380274152112&#45;&gt;140380274153120</title>\n<path fill=\"none\" stroke=\"black\" d=\"M298.51,-286.51C306.87,-279 319,-268.1 329.1,-259.03\"/>\n<polygon fill=\"black\" stroke=\"black\" points=\"331.41,-261.66 336.51,-252.37 326.74,-256.45 331.41,-261.66\"/>\n</g>\n<!-- 140380265544576 -->\n<g id=\"node13\" class=\"node\">\n<title>140380265544576</title>\n<polygon fill=\"lightblue\" stroke=\"black\" points=\"339,-372 238,-372 238,-342 339,-342 339,-372\"/>\n<text text-anchor=\"middle\" x=\"288.5\" y=\"-360\" font-family=\"monospace\" font-size=\"10.00\">linear2_2.bias</text>\n<text text-anchor=\"middle\" x=\"288.5\" y=\"-349\" font-family=\"monospace\" font-size=\"10.00\"> (3)</text>\n</g>\n<!-- 140380265544576&#45;&gt;140380274152112 -->\n<g id=\"edge11\" class=\"edge\">\n<title>140380265544576&#45;&gt;140380274152112</title>\n<path fill=\"none\" stroke=\"black\" d=\"M288.5,-341.54C288.5,-334.34 288.5,-325.53 288.5,-317.68\"/>\n<polygon fill=\"black\" stroke=\"black\" points=\"292,-317.69 288.5,-307.69 285,-317.69 292,-317.69\"/>\n</g>\n<!-- 140380274151632 -->\n<g id=\"node14\" class=\"node\">\n<title>140380274151632</title>\n<polygon fill=\"lightgrey\" stroke=\"black\" points=\"458,-306 357,-306 357,-287 458,-287 458,-306\"/>\n<text text-anchor=\"middle\" x=\"407.5\" y=\"-294\" font-family=\"monospace\" font-size=\"10.00\">AddmmBackward0</text>\n</g>\n<!-- 140380274151632&#45;&gt;140380274153120 -->\n<g id=\"edge12\" class=\"edge\">\n<title>140380274151632&#45;&gt;140380274153120</title>\n<path fill=\"none\" stroke=\"black\" d=\"M397.32,-286.51C388.74,-278.93 376.23,-267.88 365.9,-258.75\"/>\n<polygon fill=\"black\" stroke=\"black\" points=\"368.47,-256.36 358.66,-252.36 363.84,-261.6 368.47,-256.36\"/>\n</g>\n<!-- 140380274151968 -->\n<g id=\"node15\" class=\"node\">\n<title>140380274151968</title>\n<polygon fill=\"lightgrey\" stroke=\"black\" points=\"458,-366.5 357,-366.5 357,-347.5 458,-347.5 458,-366.5\"/>\n<text text-anchor=\"middle\" x=\"407.5\" y=\"-354.5\" font-family=\"monospace\" font-size=\"10.00\">AccumulateGrad</text>\n</g>\n<!-- 140380274151968&#45;&gt;140380274151632 -->\n<g id=\"edge13\" class=\"edge\">\n<title>140380274151968&#45;&gt;140380274151632</title>\n<path fill=\"none\" stroke=\"black\" d=\"M407.5,-347.37C407.5,-339.5 407.5,-327.6 407.5,-317.39\"/>\n<polygon fill=\"black\" stroke=\"black\" points=\"411,-317.68 407.5,-307.68 404,-317.68 411,-317.68\"/>\n</g>\n<!-- 140380792612160 -->\n<g id=\"node16\" class=\"node\">\n<title>140380792612160</title>\n<polygon fill=\"lightblue\" stroke=\"black\" points=\"446,-438 345,-438 345,-408 446,-408 446,-438\"/>\n<text text-anchor=\"middle\" x=\"395.5\" y=\"-426\" font-family=\"monospace\" font-size=\"10.00\">linear2_1.bias</text>\n<text text-anchor=\"middle\" x=\"395.5\" y=\"-415\" font-family=\"monospace\" font-size=\"10.00\"> (10)</text>\n</g>\n<!-- 140380792612160&#45;&gt;140380274151968 -->\n<g id=\"edge14\" class=\"edge\">\n<title>140380792612160&#45;&gt;140380274151968</title>\n<path fill=\"none\" stroke=\"black\" d=\"M398.16,-407.8C399.81,-398.99 401.96,-387.55 403.78,-377.86\"/>\n<polygon fill=\"black\" stroke=\"black\" points=\"407.16,-378.81 405.56,-368.33 400.28,-377.52 407.16,-378.81\"/>\n</g>\n<!-- 140380274151776 -->\n<g id=\"node17\" class=\"node\">\n<title>140380274151776</title>\n<polygon fill=\"lightgrey\" stroke=\"black\" points=\"553,-366.5 476,-366.5 476,-347.5 553,-347.5 553,-366.5\"/>\n<text text-anchor=\"middle\" x=\"514.5\" y=\"-354.5\" font-family=\"monospace\" font-size=\"10.00\">TBackward0</text>\n</g>\n<!-- 140380274151776&#45;&gt;140380274151632 -->\n<g id=\"edge15\" class=\"edge\">\n<title>140380274151776&#45;&gt;140380274151632</title>\n<path fill=\"none\" stroke=\"black\" d=\"M498.25,-347.12C481.2,-337.79 454.14,-323 433.99,-311.99\"/>\n<polygon fill=\"black\" stroke=\"black\" points=\"435.69,-308.92 425.23,-307.19 432.33,-315.06 435.69,-308.92\"/>\n</g>\n<!-- 140380274151584 -->\n<g id=\"node18\" class=\"node\">\n<title>140380274151584</title>\n<polygon fill=\"lightgrey\" stroke=\"black\" points=\"565,-432.5 464,-432.5 464,-413.5 565,-413.5 565,-432.5\"/>\n<text text-anchor=\"middle\" x=\"514.5\" y=\"-420.5\" font-family=\"monospace\" font-size=\"10.00\">AccumulateGrad</text>\n</g>\n<!-- 140380274151584&#45;&gt;140380274151776 -->\n<g id=\"edge16\" class=\"edge\">\n<title>140380274151584&#45;&gt;140380274151776</title>\n<path fill=\"none\" stroke=\"black\" d=\"M514.5,-413.1C514.5,-404.12 514.5,-389.95 514.5,-378.22\"/>\n<polygon fill=\"black\" stroke=\"black\" points=\"518,-378.34 514.5,-368.34 511,-378.34 518,-378.34\"/>\n</g>\n<!-- 140380267621328 -->\n<g id=\"node19\" class=\"node\">\n<title>140380267621328</title>\n<polygon fill=\"lightblue\" stroke=\"black\" points=\"571,-504 458,-504 458,-474 571,-474 571,-504\"/>\n<text text-anchor=\"middle\" x=\"514.5\" y=\"-492\" font-family=\"monospace\" font-size=\"10.00\">linear2_1.weight</text>\n<text text-anchor=\"middle\" x=\"514.5\" y=\"-481\" font-family=\"monospace\" font-size=\"10.00\"> (10, 72)</text>\n</g>\n<!-- 140380267621328&#45;&gt;140380274151584 -->\n<g id=\"edge17\" class=\"edge\">\n<title>140380267621328&#45;&gt;140380274151584</title>\n<path fill=\"none\" stroke=\"black\" d=\"M514.5,-473.8C514.5,-465.09 514.5,-453.81 514.5,-444.18\"/>\n<polygon fill=\"black\" stroke=\"black\" points=\"518,-444.36 514.5,-434.36 511,-444.36 518,-444.36\"/>\n</g>\n<!-- 140380274152976 -->\n<g id=\"node20\" class=\"node\">\n<title>140380274152976</title>\n<polygon fill=\"lightgrey\" stroke=\"black\" points=\"606,-306 529,-306 529,-287 606,-287 606,-306\"/>\n<text text-anchor=\"middle\" x=\"567.5\" y=\"-294\" font-family=\"monospace\" font-size=\"10.00\">TBackward0</text>\n</g>\n<!-- 140380274152976&#45;&gt;140380274153120 -->\n<g id=\"edge18\" class=\"edge\">\n<title>140380274152976&#45;&gt;140380274153120</title>\n<path fill=\"none\" stroke=\"black\" d=\"M530.18,-286.51C493.09,-277.57 436.04,-263.83 395.58,-254.08\"/>\n<polygon fill=\"black\" stroke=\"black\" points=\"396.65,-250.74 386.11,-251.8 395.01,-257.55 396.65,-250.74\"/>\n</g>\n<!-- 140380274151824 -->\n<g id=\"node21\" class=\"node\">\n<title>140380274151824</title>\n<polygon fill=\"lightgrey\" stroke=\"black\" points=\"681,-366.5 580,-366.5 580,-347.5 681,-347.5 681,-366.5\"/>\n<text text-anchor=\"middle\" x=\"630.5\" y=\"-354.5\" font-family=\"monospace\" font-size=\"10.00\">AccumulateGrad</text>\n</g>\n<!-- 140380274151824&#45;&gt;140380274152976 -->\n<g id=\"edge19\" class=\"edge\">\n<title>140380274151824&#45;&gt;140380274152976</title>\n<path fill=\"none\" stroke=\"black\" d=\"M620.93,-347.12C611.5,-338.35 596.85,-324.75 585.27,-314\"/>\n<polygon fill=\"black\" stroke=\"black\" points=\"587.98,-311.74 578.27,-307.5 583.21,-316.87 587.98,-311.74\"/>\n</g>\n<!-- 140380792612400 -->\n<g id=\"node22\" class=\"node\">\n<title>140380792612400</title>\n<polygon fill=\"lightblue\" stroke=\"black\" points=\"696,-438 583,-438 583,-408 696,-408 696,-438\"/>\n<text text-anchor=\"middle\" x=\"639.5\" y=\"-426\" font-family=\"monospace\" font-size=\"10.00\">linear2_2.weight</text>\n<text text-anchor=\"middle\" x=\"639.5\" y=\"-415\" font-family=\"monospace\" font-size=\"10.00\"> (3, 10)</text>\n</g>\n<!-- 140380792612400&#45;&gt;140380274151824 -->\n<g id=\"edge20\" class=\"edge\">\n<title>140380792612400&#45;&gt;140380274151824</title>\n<path fill=\"none\" stroke=\"black\" d=\"M637.5,-407.8C636.28,-399.09 634.69,-387.81 633.34,-378.18\"/>\n<polygon fill=\"black\" stroke=\"black\" points=\"636.81,-377.76 631.95,-368.34 629.88,-378.73 636.81,-377.76\"/>\n</g>\n</g>\n</svg>\n",
      "text/plain": [
       "<graphviz.graphs.Digraph at 0x7facd45e6d00>"
      ]
     },
     "execution_count": 74,
     "metadata": {},
     "output_type": "execute_result"
    }
   ],
   "source": [
    "# Visualize\n",
    "\n",
    "# brew install graphviz -> sinon ça ne marche pas\n",
    "\n",
    "x = torch.randn(1,D)\n",
    "y = h(x)\n",
    "make_dot(y.mean(), params=dict(h.named_parameters()))"
   ]
  },
  {
   "cell_type": "code",
   "execution_count": 14,
   "metadata": {},
   "outputs": [
    {
     "name": "stdout",
     "output_type": "stream",
     "text": [
      "my_loss: 0.457\n"
     ]
    }
   ],
   "source": [
    "# Test the model on test data and compute my_loss on test data\n",
    "preds = [] \n",
    "losses_t = []\n",
    "with torch.no_grad():\n",
    "   for i in range(N_test):\n",
    "        \n",
    "        x_t_variable = torch.FloatTensor(X_test[i]).view(1, -1)\n",
    "        y_t_variable = torch.FloatTensor(Y_test[i]).view(1, -1)\n",
    "        \n",
    "        y_hat = h(x_t_variable)\n",
    "        preds.append(y_hat)\n",
    "        loss = my_loss(y_hat, y_t_variable)\n",
    "        losses_t.append(loss.data.mean())\n",
    "   print('my_loss: %.3f' % (np.mean(losses_t)))"
   ]
  },
  {
   "cell_type": "code",
   "execution_count": 78,
   "metadata": {},
   "outputs": [],
   "source": [
    "def hamming_loss(y,pred):\n",
    "    c = 0\n",
    "    d = 0\n",
    "    temp = torch.eq(y, pred)\n",
    "    for el in temp[0]:\n",
    "        d+=1\n",
    "        if not el.item() :\n",
    "            c+=1\n",
    "    return c/d\n",
    "    \n",
    "def loss_0_1(y,pred):\n",
    "    if hamming_loss(y,pred)>0:\n",
    "        return 1\n",
    "    return 0"
   ]
  },
  {
   "cell_type": "code",
   "execution_count": 79,
   "metadata": {},
   "outputs": [
    {
     "name": "stdout",
     "output_type": "stream",
     "text": [
      "Hamming loss: 0.211\n",
      "0/1 loss: 0.700\n"
     ]
    }
   ],
   "source": [
    "# Test the model on test data and compute my_loss on test data\n",
    "preds = [] \n",
    "hamlosses_t = []\n",
    "losses_0_1_t = []\n",
    "for i in range(N_test):   \n",
    "     x_t_variable = torch.FloatTensor(X_test[i]).view(1, -1)\n",
    "     y_t_variable = torch.FloatTensor(Y_test[i]).view(1, -1)\n",
    "     \n",
    "     y_hat = h(x_t_variable)\n",
    "     preds.append(y_hat)\n",
    "     y_hat = torch.round(y_hat)\n",
    "\n",
    "     hamloss = hamming_loss(y_hat, y_t_variable)\n",
    "     loss01 = loss_0_1(y_hat, y_t_variable)\n",
    "     \n",
    "     hamlosses_t.append(hamloss)\n",
    "     losses_0_1_t.append(loss01)\n",
    "     \n",
    "print('Hamming loss: %.3f' % (np.mean(hamlosses_t)))\n",
    "print('0/1 loss: %.3f' % (np.mean(losses_0_1_t)))"
   ]
  },
  {
   "cell_type": "code",
   "execution_count": null,
   "metadata": {},
   "outputs": [],
   "source": []
  }
 ],
 "metadata": {
  "kernelspec": {
   "display_name": "inf581",
   "language": "python",
   "name": "python3"
  },
  "language_info": {
   "codemirror_mode": {
    "name": "ipython",
    "version": 3
   },
   "file_extension": ".py",
   "mimetype": "text/x-python",
   "name": "python",
   "nbconvert_exporter": "python",
   "pygments_lexer": "ipython3",
   "version": "3.9.12"
  },
  "vscode": {
   "interpreter": {
    "hash": "e71b5e2ad4f6d546fe5bfd22c2d60941bb3b04d4f9add0147a18f4217b1c2054"
   }
  }
 },
 "nbformat": 4,
 "nbformat_minor": 2
}
